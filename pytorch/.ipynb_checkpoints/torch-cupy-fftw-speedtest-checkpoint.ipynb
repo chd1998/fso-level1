{
 "cells": [
  {
   "cell_type": "code",
   "execution_count": 38,
   "metadata": {},
   "outputs": [],
   "source": [
    "import torch\n",
    "import numpy as np\n",
    "import cupy as cp\n",
    "import pyfftw\n",
    "import matplotlib.pyplot as plt\n",
    "import time\n"
   ]
  },
  {
   "cell_type": "code",
   "execution_count": 39,
   "metadata": {},
   "outputs": [],
   "source": [
    "def torch_ifft_fft(data):\n",
    "    signal_ndim = 2\n",
    "    data2 = torch.fft(data, signal_ndim=signal_ndim)\n",
    "    return torch.ifft(data2, signal_ndim=signal_ndim)\n",
    "\n",
    "def np_ifft2_fft2(data):\n",
    "    data2 = np.fft.fft2(data)\n",
    "    return np.fft.ifft2(data2)\n",
    "\n",
    "def cp_ifft2_fft2(data):\n",
    "    data2 = cp.fft.fft2(data)\n",
    "    return cp.fft.ifft2(data2)\n",
    "\n",
    "def pyfftw_ifft2_fft2(data):\n",
    "    data2 = pyfftw.interfaces.numpy_fft.fft2(data)\n",
    "    return pyfftw.interfaces.numpy_fft.ifft2(data2)"
   ]
  },
  {
   "cell_type": "code",
   "execution_count": 40,
   "metadata": {},
   "outputs": [
    {
     "name": "stdout",
     "output_type": "stream",
     "text": [
      "PyTorch\n",
      "GPU available: True\n",
      "Working on device: cuda:0\n",
      "PyTorch GPU 512x512\n",
      "287 µs ± 2.66 µs per loop (mean ± std. dev. of 7 runs, 10000 loops each)\n",
      "PyTorch GPU 1024x1024\n",
      "1.11 ms ± 9.31 µs per loop (mean ± std. dev. of 7 runs, 1000 loops each)\n",
      "PyTorch GPU 2048x2048\n",
      "5.84 ms ± 74.5 µs per loop (mean ± std. dev. of 7 runs, 1000 loops each)\n",
      "PyTorch GPU 4096x4096\n",
      "10.2 ms ± 6.85 ms per loop (mean ± std. dev. of 7 runs, 100 loops each)\n"
     ]
    }
   ],
   "source": [
    "sizes = [512, 1024, 2048, 4096] # X * X pixel arrays/tensors\n",
    "names = []\n",
    "totaltimes = []\n",
    "name = 'PyTorch\\nGPU'\n",
    "device_type = 'cuda'\n",
    "device = torch.device('cuda:{}'.format(0))\n",
    "names.append(name)\n",
    "print('{} available: {}'.format(name, torch.cuda.is_available()))\n",
    "torchtimes = []\n",
    "datas = [torch.randn(size=(x,x,2), device=device) for x in sizes]\n",
    "print(f'Working on device: {datas[0].device}')\n",
    "for x, data in zip(sizes, datas):\n",
    "    print('{} {}x{}'.format(\" \".join(name.split('\\n')), x, x))\n",
    "    start = time.process_time()\n",
    "    t = %timeit -o torch_ifft_fft(data)\n",
    "    #torch_ifft_fft(data)\n",
    "    #end = time.process_time()\n",
    "    #t=end-start\n",
    "    torchtimes.append(t)\n",
    "totaltimes.append(torchtimes)"
   ]
  },
  {
   "cell_type": "code",
   "execution_count": 41,
   "metadata": {},
   "outputs": [
    {
     "name": "stdout",
     "output_type": "stream",
     "text": [
      "Numpy CPU 512x512\n",
      "42 ms ± 667 µs per loop (mean ± std. dev. of 7 runs, 10 loops each)\n",
      "Numpy CPU 1024x1024\n",
      "239 ms ± 1.49 ms per loop (mean ± std. dev. of 7 runs, 1 loop each)\n",
      "Numpy CPU 2048x2048\n",
      "1.29 s ± 30.4 ms per loop (mean ± std. dev. of 7 runs, 1 loop each)\n",
      "Numpy CPU 4096x4096\n",
      "7.07 s ± 195 ms per loop (mean ± std. dev. of 7 runs, 1 loop each)\n"
     ]
    }
   ],
   "source": [
    "name = 'Numpy\\nCPU'\n",
    "names.append(name)\n",
    "nptimes = []\n",
    "datas = [np.random.normal(size=(x,x)).astype('complex128') for x in sizes]\n",
    "for x, data in zip(sizes, datas):\n",
    "    print('{} {}x{}'.format(\" \".join(name.split('\\n')), x, x))\n",
    "    t = %timeit -o np_ifft2_fft2(data)\n",
    "    nptimes.append(t)\n",
    "totaltimes.append(nptimes)"
   ]
  },
  {
   "cell_type": "code",
   "execution_count": 42,
   "metadata": {},
   "outputs": [
    {
     "ename": "OutOfMemoryError",
     "evalue": "out of memory to allocate 268435456 bytes (total 1048576000 bytes)",
     "output_type": "error",
     "traceback": [
      "\u001b[1;31m---------------------------------------------------------------------------\u001b[0m",
      "\u001b[1;31mOutOfMemoryError\u001b[0m                          Traceback (most recent call last)",
      "\u001b[1;32m<ipython-input-42-db5a16233c0c>\u001b[0m in \u001b[0;36m<module>\u001b[1;34m\u001b[0m\n\u001b[0;32m      4\u001b[0m \u001b[0mdevice\u001b[0m \u001b[1;33m=\u001b[0m \u001b[0mcp\u001b[0m\u001b[1;33m.\u001b[0m\u001b[0mcuda\u001b[0m\u001b[1;33m.\u001b[0m\u001b[0mDevice\u001b[0m\u001b[1;33m(\u001b[0m\u001b[1;36m0\u001b[0m\u001b[1;33m)\u001b[0m\u001b[1;33m\u001b[0m\u001b[1;33m\u001b[0m\u001b[0m\n\u001b[0;32m      5\u001b[0m \u001b[1;32mwith\u001b[0m \u001b[0mdevice\u001b[0m\u001b[1;33m:\u001b[0m\u001b[1;33m\u001b[0m\u001b[1;33m\u001b[0m\u001b[0m\n\u001b[1;32m----> 6\u001b[1;33m     \u001b[0mdatas\u001b[0m \u001b[1;33m=\u001b[0m \u001b[1;33m[\u001b[0m\u001b[0mcp\u001b[0m\u001b[1;33m.\u001b[0m\u001b[0mrandom\u001b[0m\u001b[1;33m.\u001b[0m\u001b[0mnormal\u001b[0m\u001b[1;33m(\u001b[0m\u001b[0msize\u001b[0m\u001b[1;33m=\u001b[0m\u001b[1;33m(\u001b[0m\u001b[0mx\u001b[0m\u001b[1;33m,\u001b[0m\u001b[0mx\u001b[0m\u001b[1;33m)\u001b[0m\u001b[1;33m)\u001b[0m\u001b[1;33m.\u001b[0m\u001b[0mastype\u001b[0m\u001b[1;33m(\u001b[0m\u001b[1;34m'complex128'\u001b[0m\u001b[1;33m)\u001b[0m \u001b[1;32mfor\u001b[0m \u001b[0mx\u001b[0m \u001b[1;32min\u001b[0m \u001b[0msizes\u001b[0m\u001b[1;33m]\u001b[0m\u001b[1;33m\u001b[0m\u001b[1;33m\u001b[0m\u001b[0m\n\u001b[0m\u001b[0;32m      7\u001b[0m     \u001b[1;32mfor\u001b[0m \u001b[0mx\u001b[0m\u001b[1;33m,\u001b[0m \u001b[0mdata\u001b[0m \u001b[1;32min\u001b[0m \u001b[0mzip\u001b[0m\u001b[1;33m(\u001b[0m\u001b[0msizes\u001b[0m\u001b[1;33m,\u001b[0m \u001b[0mdatas\u001b[0m\u001b[1;33m)\u001b[0m\u001b[1;33m:\u001b[0m\u001b[1;33m\u001b[0m\u001b[1;33m\u001b[0m\u001b[0m\n\u001b[0;32m      8\u001b[0m         \u001b[0mprint\u001b[0m\u001b[1;33m(\u001b[0m\u001b[1;34m'{} {}x{}'\u001b[0m\u001b[1;33m.\u001b[0m\u001b[0mformat\u001b[0m\u001b[1;33m(\u001b[0m\u001b[1;34m\" \"\u001b[0m\u001b[1;33m.\u001b[0m\u001b[0mjoin\u001b[0m\u001b[1;33m(\u001b[0m\u001b[0mname\u001b[0m\u001b[1;33m.\u001b[0m\u001b[0msplit\u001b[0m\u001b[1;33m(\u001b[0m\u001b[1;34m'\\n'\u001b[0m\u001b[1;33m)\u001b[0m\u001b[1;33m)\u001b[0m\u001b[1;33m,\u001b[0m \u001b[0mx\u001b[0m\u001b[1;33m,\u001b[0m \u001b[0mx\u001b[0m\u001b[1;33m)\u001b[0m\u001b[1;33m)\u001b[0m\u001b[1;33m\u001b[0m\u001b[1;33m\u001b[0m\u001b[0m\n",
      "\u001b[1;32m<ipython-input-42-db5a16233c0c>\u001b[0m in \u001b[0;36m<listcomp>\u001b[1;34m(.0)\u001b[0m\n\u001b[0;32m      4\u001b[0m \u001b[0mdevice\u001b[0m \u001b[1;33m=\u001b[0m \u001b[0mcp\u001b[0m\u001b[1;33m.\u001b[0m\u001b[0mcuda\u001b[0m\u001b[1;33m.\u001b[0m\u001b[0mDevice\u001b[0m\u001b[1;33m(\u001b[0m\u001b[1;36m0\u001b[0m\u001b[1;33m)\u001b[0m\u001b[1;33m\u001b[0m\u001b[1;33m\u001b[0m\u001b[0m\n\u001b[0;32m      5\u001b[0m \u001b[1;32mwith\u001b[0m \u001b[0mdevice\u001b[0m\u001b[1;33m:\u001b[0m\u001b[1;33m\u001b[0m\u001b[1;33m\u001b[0m\u001b[0m\n\u001b[1;32m----> 6\u001b[1;33m     \u001b[0mdatas\u001b[0m \u001b[1;33m=\u001b[0m \u001b[1;33m[\u001b[0m\u001b[0mcp\u001b[0m\u001b[1;33m.\u001b[0m\u001b[0mrandom\u001b[0m\u001b[1;33m.\u001b[0m\u001b[0mnormal\u001b[0m\u001b[1;33m(\u001b[0m\u001b[0msize\u001b[0m\u001b[1;33m=\u001b[0m\u001b[1;33m(\u001b[0m\u001b[0mx\u001b[0m\u001b[1;33m,\u001b[0m\u001b[0mx\u001b[0m\u001b[1;33m)\u001b[0m\u001b[1;33m)\u001b[0m\u001b[1;33m.\u001b[0m\u001b[0mastype\u001b[0m\u001b[1;33m(\u001b[0m\u001b[1;34m'complex128'\u001b[0m\u001b[1;33m)\u001b[0m \u001b[1;32mfor\u001b[0m \u001b[0mx\u001b[0m \u001b[1;32min\u001b[0m \u001b[0msizes\u001b[0m\u001b[1;33m]\u001b[0m\u001b[1;33m\u001b[0m\u001b[1;33m\u001b[0m\u001b[0m\n\u001b[0m\u001b[0;32m      7\u001b[0m     \u001b[1;32mfor\u001b[0m \u001b[0mx\u001b[0m\u001b[1;33m,\u001b[0m \u001b[0mdata\u001b[0m \u001b[1;32min\u001b[0m \u001b[0mzip\u001b[0m\u001b[1;33m(\u001b[0m\u001b[0msizes\u001b[0m\u001b[1;33m,\u001b[0m \u001b[0mdatas\u001b[0m\u001b[1;33m)\u001b[0m\u001b[1;33m:\u001b[0m\u001b[1;33m\u001b[0m\u001b[1;33m\u001b[0m\u001b[0m\n\u001b[0;32m      8\u001b[0m         \u001b[0mprint\u001b[0m\u001b[1;33m(\u001b[0m\u001b[1;34m'{} {}x{}'\u001b[0m\u001b[1;33m.\u001b[0m\u001b[0mformat\u001b[0m\u001b[1;33m(\u001b[0m\u001b[1;34m\" \"\u001b[0m\u001b[1;33m.\u001b[0m\u001b[0mjoin\u001b[0m\u001b[1;33m(\u001b[0m\u001b[0mname\u001b[0m\u001b[1;33m.\u001b[0m\u001b[0msplit\u001b[0m\u001b[1;33m(\u001b[0m\u001b[1;34m'\\n'\u001b[0m\u001b[1;33m)\u001b[0m\u001b[1;33m)\u001b[0m\u001b[1;33m,\u001b[0m \u001b[0mx\u001b[0m\u001b[1;33m,\u001b[0m \u001b[0mx\u001b[0m\u001b[1;33m)\u001b[0m\u001b[1;33m)\u001b[0m\u001b[1;33m\u001b[0m\u001b[1;33m\u001b[0m\u001b[0m\n",
      "\u001b[1;32mcupy\\core\\core.pyx\u001b[0m in \u001b[0;36mcupy.core.core.ndarray.astype\u001b[1;34m()\u001b[0m\n",
      "\u001b[1;32mcupy\\core\\core.pyx\u001b[0m in \u001b[0;36mcupy.core.core.ndarray.astype\u001b[1;34m()\u001b[0m\n",
      "\u001b[1;32mcupy\\core\\core.pyx\u001b[0m in \u001b[0;36mcupy.core.core.ndarray.__init__\u001b[1;34m()\u001b[0m\n",
      "\u001b[1;32mcupy\\cuda\\memory.pyx\u001b[0m in \u001b[0;36mcupy.cuda.memory.alloc\u001b[1;34m()\u001b[0m\n",
      "\u001b[1;32mcupy\\cuda\\memory.pyx\u001b[0m in \u001b[0;36mcupy.cuda.memory.MemoryPool.malloc\u001b[1;34m()\u001b[0m\n",
      "\u001b[1;32mcupy\\cuda\\memory.pyx\u001b[0m in \u001b[0;36mcupy.cuda.memory.MemoryPool.malloc\u001b[1;34m()\u001b[0m\n",
      "\u001b[1;32mcupy\\cuda\\memory.pyx\u001b[0m in \u001b[0;36mcupy.cuda.memory.SingleDeviceMemoryPool.malloc\u001b[1;34m()\u001b[0m\n",
      "\u001b[1;32mcupy\\cuda\\memory.pyx\u001b[0m in \u001b[0;36mcupy.cuda.memory.SingleDeviceMemoryPool._malloc\u001b[1;34m()\u001b[0m\n",
      "\u001b[1;32mcupy\\cuda\\memory.pyx\u001b[0m in \u001b[0;36mcupy.cuda.memory._try_malloc\u001b[1;34m()\u001b[0m\n",
      "\u001b[1;31mOutOfMemoryError\u001b[0m: out of memory to allocate 268435456 bytes (total 1048576000 bytes)"
     ]
    }
   ],
   "source": [
    "name = 'CuPy\\nGPU'\n",
    "names.append(name)\n",
    "cptimes = []\n",
    "device = cp.cuda.Device(0)\n",
    "with device:\n",
    "    datas = [cp.random.normal(size=(x,x)).astype('complex128') for x in sizes]\n",
    "    for x, data in zip(sizes, datas):\n",
    "        print('{} {}x{}'.format(\" \".join(name.split('\\n')), x, x))\n",
    "        t = %timeit -o cp_ifft2_fft2(data)\n",
    "        cptimes.append(t)\n",
    "    totaltimes.append(cptimes)"
   ]
  },
  {
   "cell_type": "code",
   "execution_count": null,
   "metadata": {},
   "outputs": [],
   "source": [
    "name = 'PyFFTW\\nCPU'\n",
    "names.append(name)\n",
    "tensortimes = []\n",
    "def pyfftw_array(shape):\n",
    "    arr = pyfftw.empty_aligned(shape, dtype='complex128')\n",
    "    arr[:] = np.random.normal(size=shape) + 1j*np.random.normal(size=shape)\n",
    "    return arr\n",
    "datas = [pyfftw_array((x,x)) for x in sizes]\n",
    "for x, data in zip(sizes, datas):\n",
    "    print('{} {}x{}'.format(\" \".join(name.split('\\n')), x, x))\n",
    "    t = %timeit -o pyfftw_ifft2_fft2(data)\n",
    "    tensortimes.append(t)\n",
    "totaltimes.append(tensortimes)"
   ]
  },
  {
   "cell_type": "markdown",
   "metadata": {},
   "source": [
    "Plotting results\n",
    "Plot as function of data shape"
   ]
  },
  {
   "cell_type": "code",
   "execution_count": null,
   "metadata": {},
   "outputs": [],
   "source": [
    "fig, AX = plt.subplots(ncols=2, nrows=2, constrained_layout=True, figsize=(14,6), dpi=400)\n",
    "# fig.canvas.layout.width = \"1400px\"\n",
    "# fig.canvas.layout.height = \"600px\"\n",
    "plt.suptitle('iFFT2(FFT2(array)) performance by array size\\nLower is better')\n",
    "\n",
    "for i in range(len(sizes)):\n",
    "    t = np.array([time[i].average for time in totaltimes]) * 1000 # now in ms\n",
    "    err = np.array([time[i].stdev for time in totaltimes]) * 1000\n",
    "    ax = AX.flatten()[i]\n",
    "    ax.set_title(\"{}x{}\".format(sizes[i], sizes[i]))\n",
    "    ax.bar(names, t)\n",
    "    ax.set_yscale('log')\n",
    "    ax.set_ylabel('FFT Time (ms)')\n",
    "plt.savefig('FFT_Speed_by_size.png')"
   ]
  },
  {
   "cell_type": "code",
   "execution_count": null,
   "metadata": {},
   "outputs": [],
   "source": []
  }
 ],
 "metadata": {
  "kernelspec": {
   "display_name": "Python 3",
   "language": "python",
   "name": "python3"
  },
  "language_info": {
   "codemirror_mode": {
    "name": "ipython",
    "version": 3
   },
   "file_extension": ".py",
   "mimetype": "text/x-python",
   "name": "python",
   "nbconvert_exporter": "python",
   "pygments_lexer": "ipython3",
   "version": "3.7.9"
  }
 },
 "nbformat": 4,
 "nbformat_minor": 4
}
