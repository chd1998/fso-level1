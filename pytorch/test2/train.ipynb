{
 "cells": [
  {
   "cell_type": "code",
<<<<<<< HEAD:pytorch/test2/train.ipynb
   "execution_count": 2,
=======
<<<<<<< HEAD
   "execution_count": 10,
=======
   "execution_count": 1,
>>>>>>> ee0729ebb33e6df1c1660fa6eae3871c36078a7b
>>>>>>> 26f7ac29863ccfd55105c3401dc2e258cd3e22d4:pytorch/test2/test2.ipynb
   "id": "modified-charger",
   "metadata": {},
   "outputs": [
    {
     "name": "stdout",
     "output_type": "stream",
     "text": [
<<<<<<< HEAD
      "1.8.0.dev20210208+cu110\n"
=======
      "1.8.0+cu111\n"
>>>>>>> ee0729ebb33e6df1c1660fa6eae3871c36078a7b
     ]
    }
   ],
   "source": [
    "%matplotlib inline\n",
    "%config InlineBackend.figure_format = 'retina'\n",
    "import matplotlib.pyplot as plt\n",
    "import numpy as np\n",
    "import torch\n",
    "from torch import nn\n",
    "from torch import optim\n",
    "import torch.nn.functional as F\n",
    "from torchvision import datasets, transforms, models\n",
    "import os\n",
    "print(torch.__version__)"
   ]
  },
  {
   "cell_type": "code",
<<<<<<< HEAD:pytorch/test2/train.ipynb
   "execution_count": 3,
=======
<<<<<<< HEAD
   "execution_count": 11,
=======
   "execution_count": 2,
>>>>>>> ee0729ebb33e6df1c1660fa6eae3871c36078a7b
>>>>>>> 26f7ac29863ccfd55105c3401dc2e258cd3e22d4:pytorch/test2/test2.ipynb
   "id": "vocational-blues",
   "metadata": {},
   "outputs": [
    {
     "name": "stdout",
     "output_type": "stream",
     "text": [
      "d:\\mywork\\python-fso\\pytorch\\test2\n"
     ]
    }
   ],
   "source": [
    "cwd=os.getcwd()\n",
    "print(cwd)"
   ]
  },
  {
   "cell_type": "code",
<<<<<<< HEAD:pytorch/test2/train.ipynb
   "execution_count": 5,
=======
<<<<<<< HEAD
   "execution_count": 12,
   "id": "above-bolivia",
   "metadata": {},
=======
   "execution_count": 7,
>>>>>>> 26f7ac29863ccfd55105c3401dc2e258cd3e22d4:pytorch/test2/test2.ipynb
   "id": "above-bolivia",
   "metadata": {
    "scrolled": true
   },
>>>>>>> ee0729ebb33e6df1c1660fa6eae3871c36078a7b
   "outputs": [
    {
     "name": "stdout",
     "output_type": "stream",
     "text": [
<<<<<<< HEAD:pytorch/test2/train.ipynb
      "['01-photo-sunspot', '02-chrom-prominence', '03-chrome-Quiet-Filament', '04-photo-quiet', '05-photo-limb', '06-photo-pore', '07-chrom-limb-fibre', '08-chrom-emerging-arcfilament', '09-chrom-sunspot', '10-chrom-ar-filament', '11-chrome-quiet']\n"
=======
<<<<<<< HEAD
      "['01-photo-sunspot', '02-chrom-prominence', '03-chrome-Quiet-Filament', '04-photo-quiet', '05-photo-limb', '06-photo-pore', '07-chrom-limb-fibre', '08-chrom-emerging-arcfilament', '09-chrom-sunspot', '10-chrom-ar-filament', '11-chrome-quiet']\n"
=======
      "['test', 'train-01']\n"
>>>>>>> ee0729ebb33e6df1c1660fa6eae3871c36078a7b
>>>>>>> 26f7ac29863ccfd55105c3401dc2e258cd3e22d4:pytorch/test2/test2.ipynb
     ]
    }
   ],
   "source": [
<<<<<<< HEAD:pytorch/test2/train.ipynb
    "#data_dir = cwd+'\\\\data'\n",
    "data_dir=\"D:\\\\pytorch-data\\\\data-test2\\\\train\"\n",
=======
<<<<<<< HEAD
    "data_dir = cwd+'\\\\data\\\\train-01'\n",
=======
    "#data_dir = cwd+'\\\\data\\\\train-01'\n",
    "data_dir=\"D:\\pytorch-data\\data-test2\"\n",
>>>>>>> ee0729ebb33e6df1c1660fa6eae3871c36078a7b
>>>>>>> 26f7ac29863ccfd55105c3401dc2e258cd3e22d4:pytorch/test2/test2.ipynb
    "def load_split_train_test(datadir, valid_size = .2):\n",
    "    train_transforms = transforms.Compose([transforms.Resize(224),\n",
    "                                       transforms.ToTensor(),\n",
    "                                       ])\n",
    "    test_transforms = transforms.Compose([transforms.Resize(224),\n",
    "                                      transforms.ToTensor(),\n",
    "                                      ])\n",
    "    train_data = datasets.ImageFolder(datadir,       \n",
    "                    transform=train_transforms)\n",
    "    test_data = datasets.ImageFolder(datadir,\n",
    "                    transform=test_transforms)\n",
    "    num_train = len(train_data)\n",
    "    indices = list(range(num_train))\n",
    "    split = int(np.floor(valid_size * num_train))\n",
    "    np.random.shuffle(indices)\n",
    "    from torch.utils.data.sampler import SubsetRandomSampler\n",
    "    train_idx, test_idx = indices[split:], indices[:split]\n",
    "    train_sampler = SubsetRandomSampler(train_idx)\n",
    "    test_sampler = SubsetRandomSampler(test_idx)\n",
    "    trainloader = torch.utils.data.DataLoader(train_data,\n",
    "                   sampler=train_sampler, batch_size=64)\n",
    "    testloader = torch.utils.data.DataLoader(test_data,\n",
    "                   sampler=test_sampler, batch_size=64)\n",
    "    return trainloader, testloader\n",
    "\n",
    "trainloader, testloader = load_split_train_test(data_dir, .2)\n",
    "print(trainloader.dataset.classes)"
   ]
  },
  {
   "cell_type": "code",
<<<<<<< HEAD:pytorch/test2/train.ipynb
   "execution_count": 6,
=======
<<<<<<< HEAD
   "execution_count": 14,
=======
   "execution_count": 8,
>>>>>>> ee0729ebb33e6df1c1660fa6eae3871c36078a7b
>>>>>>> 26f7ac29863ccfd55105c3401dc2e258cd3e22d4:pytorch/test2/test2.ipynb
   "id": "outside-blank",
   "metadata": {},
   "outputs": [
    {
     "name": "stdout",
     "output_type": "stream",
     "text": [
<<<<<<< HEAD
      "cpu\n"
     ]
    },
    {
     "name": "stderr",
     "output_type": "stream",
     "text": [
      "Downloading: \"https://download.pytorch.org/models/resnet50-19c8e357.pth\" to C:\\Users\\chd19/.cache\\torch\\hub\\checkpoints\\resnet50-19c8e357.pth\n"
     ]
    },
    {
     "data": {
      "application/vnd.jupyter.widget-view+json": {
       "model_id": "1d3c31c3825a4107841f713240e1778a",
       "version_major": 2,
       "version_minor": 0
      },
      "text/plain": [
       "  0%|          | 0.00/97.8M [00:00<?, ?B/s]"
      ]
     },
     "metadata": {},
     "output_type": "display_data"
    },
    {
     "name": "stdout",
     "output_type": "stream",
     "text": [
=======
      "cpu\n",
>>>>>>> ee0729ebb33e6df1c1660fa6eae3871c36078a7b
      "ResNet(\n",
      "  (conv1): Conv2d(3, 64, kernel_size=(7, 7), stride=(2, 2), padding=(3, 3), bias=False)\n",
      "  (bn1): BatchNorm2d(64, eps=1e-05, momentum=0.1, affine=True, track_running_stats=True)\n",
      "  (relu): ReLU(inplace=True)\n",
      "  (maxpool): MaxPool2d(kernel_size=3, stride=2, padding=1, dilation=1, ceil_mode=False)\n",
      "  (layer1): Sequential(\n",
      "    (0): Bottleneck(\n",
      "      (conv1): Conv2d(64, 64, kernel_size=(1, 1), stride=(1, 1), bias=False)\n",
      "      (bn1): BatchNorm2d(64, eps=1e-05, momentum=0.1, affine=True, track_running_stats=True)\n",
      "      (conv2): Conv2d(64, 64, kernel_size=(3, 3), stride=(1, 1), padding=(1, 1), bias=False)\n",
      "      (bn2): BatchNorm2d(64, eps=1e-05, momentum=0.1, affine=True, track_running_stats=True)\n",
      "      (conv3): Conv2d(64, 256, kernel_size=(1, 1), stride=(1, 1), bias=False)\n",
      "      (bn3): BatchNorm2d(256, eps=1e-05, momentum=0.1, affine=True, track_running_stats=True)\n",
      "      (relu): ReLU(inplace=True)\n",
      "      (downsample): Sequential(\n",
      "        (0): Conv2d(64, 256, kernel_size=(1, 1), stride=(1, 1), bias=False)\n",
      "        (1): BatchNorm2d(256, eps=1e-05, momentum=0.1, affine=True, track_running_stats=True)\n",
      "      )\n",
      "    )\n",
      "    (1): Bottleneck(\n",
      "      (conv1): Conv2d(256, 64, kernel_size=(1, 1), stride=(1, 1), bias=False)\n",
      "      (bn1): BatchNorm2d(64, eps=1e-05, momentum=0.1, affine=True, track_running_stats=True)\n",
      "      (conv2): Conv2d(64, 64, kernel_size=(3, 3), stride=(1, 1), padding=(1, 1), bias=False)\n",
      "      (bn2): BatchNorm2d(64, eps=1e-05, momentum=0.1, affine=True, track_running_stats=True)\n",
      "      (conv3): Conv2d(64, 256, kernel_size=(1, 1), stride=(1, 1), bias=False)\n",
      "      (bn3): BatchNorm2d(256, eps=1e-05, momentum=0.1, affine=True, track_running_stats=True)\n",
      "      (relu): ReLU(inplace=True)\n",
      "    )\n",
      "    (2): Bottleneck(\n",
      "      (conv1): Conv2d(256, 64, kernel_size=(1, 1), stride=(1, 1), bias=False)\n",
      "      (bn1): BatchNorm2d(64, eps=1e-05, momentum=0.1, affine=True, track_running_stats=True)\n",
      "      (conv2): Conv2d(64, 64, kernel_size=(3, 3), stride=(1, 1), padding=(1, 1), bias=False)\n",
      "      (bn2): BatchNorm2d(64, eps=1e-05, momentum=0.1, affine=True, track_running_stats=True)\n",
      "      (conv3): Conv2d(64, 256, kernel_size=(1, 1), stride=(1, 1), bias=False)\n",
      "      (bn3): BatchNorm2d(256, eps=1e-05, momentum=0.1, affine=True, track_running_stats=True)\n",
      "      (relu): ReLU(inplace=True)\n",
      "    )\n",
      "  )\n",
      "  (layer2): Sequential(\n",
      "    (0): Bottleneck(\n",
      "      (conv1): Conv2d(256, 128, kernel_size=(1, 1), stride=(1, 1), bias=False)\n",
      "      (bn1): BatchNorm2d(128, eps=1e-05, momentum=0.1, affine=True, track_running_stats=True)\n",
      "      (conv2): Conv2d(128, 128, kernel_size=(3, 3), stride=(2, 2), padding=(1, 1), bias=False)\n",
      "      (bn2): BatchNorm2d(128, eps=1e-05, momentum=0.1, affine=True, track_running_stats=True)\n",
      "      (conv3): Conv2d(128, 512, kernel_size=(1, 1), stride=(1, 1), bias=False)\n",
      "      (bn3): BatchNorm2d(512, eps=1e-05, momentum=0.1, affine=True, track_running_stats=True)\n",
      "      (relu): ReLU(inplace=True)\n",
      "      (downsample): Sequential(\n",
      "        (0): Conv2d(256, 512, kernel_size=(1, 1), stride=(2, 2), bias=False)\n",
      "        (1): BatchNorm2d(512, eps=1e-05, momentum=0.1, affine=True, track_running_stats=True)\n",
      "      )\n",
      "    )\n",
      "    (1): Bottleneck(\n",
      "      (conv1): Conv2d(512, 128, kernel_size=(1, 1), stride=(1, 1), bias=False)\n",
      "      (bn1): BatchNorm2d(128, eps=1e-05, momentum=0.1, affine=True, track_running_stats=True)\n",
      "      (conv2): Conv2d(128, 128, kernel_size=(3, 3), stride=(1, 1), padding=(1, 1), bias=False)\n",
      "      (bn2): BatchNorm2d(128, eps=1e-05, momentum=0.1, affine=True, track_running_stats=True)\n",
      "      (conv3): Conv2d(128, 512, kernel_size=(1, 1), stride=(1, 1), bias=False)\n",
      "      (bn3): BatchNorm2d(512, eps=1e-05, momentum=0.1, affine=True, track_running_stats=True)\n",
      "      (relu): ReLU(inplace=True)\n",
      "    )\n",
      "    (2): Bottleneck(\n",
      "      (conv1): Conv2d(512, 128, kernel_size=(1, 1), stride=(1, 1), bias=False)\n",
      "      (bn1): BatchNorm2d(128, eps=1e-05, momentum=0.1, affine=True, track_running_stats=True)\n",
      "      (conv2): Conv2d(128, 128, kernel_size=(3, 3), stride=(1, 1), padding=(1, 1), bias=False)\n",
      "      (bn2): BatchNorm2d(128, eps=1e-05, momentum=0.1, affine=True, track_running_stats=True)\n",
      "      (conv3): Conv2d(128, 512, kernel_size=(1, 1), stride=(1, 1), bias=False)\n",
      "      (bn3): BatchNorm2d(512, eps=1e-05, momentum=0.1, affine=True, track_running_stats=True)\n",
      "      (relu): ReLU(inplace=True)\n",
      "    )\n",
      "    (3): Bottleneck(\n",
      "      (conv1): Conv2d(512, 128, kernel_size=(1, 1), stride=(1, 1), bias=False)\n",
      "      (bn1): BatchNorm2d(128, eps=1e-05, momentum=0.1, affine=True, track_running_stats=True)\n",
      "      (conv2): Conv2d(128, 128, kernel_size=(3, 3), stride=(1, 1), padding=(1, 1), bias=False)\n",
      "      (bn2): BatchNorm2d(128, eps=1e-05, momentum=0.1, affine=True, track_running_stats=True)\n",
      "      (conv3): Conv2d(128, 512, kernel_size=(1, 1), stride=(1, 1), bias=False)\n",
      "      (bn3): BatchNorm2d(512, eps=1e-05, momentum=0.1, affine=True, track_running_stats=True)\n",
      "      (relu): ReLU(inplace=True)\n",
      "    )\n",
      "  )\n",
      "  (layer3): Sequential(\n",
      "    (0): Bottleneck(\n",
      "      (conv1): Conv2d(512, 256, kernel_size=(1, 1), stride=(1, 1), bias=False)\n",
      "      (bn1): BatchNorm2d(256, eps=1e-05, momentum=0.1, affine=True, track_running_stats=True)\n",
      "      (conv2): Conv2d(256, 256, kernel_size=(3, 3), stride=(2, 2), padding=(1, 1), bias=False)\n",
      "      (bn2): BatchNorm2d(256, eps=1e-05, momentum=0.1, affine=True, track_running_stats=True)\n",
      "      (conv3): Conv2d(256, 1024, kernel_size=(1, 1), stride=(1, 1), bias=False)\n",
      "      (bn3): BatchNorm2d(1024, eps=1e-05, momentum=0.1, affine=True, track_running_stats=True)\n",
      "      (relu): ReLU(inplace=True)\n",
      "      (downsample): Sequential(\n",
      "        (0): Conv2d(512, 1024, kernel_size=(1, 1), stride=(2, 2), bias=False)\n",
      "        (1): BatchNorm2d(1024, eps=1e-05, momentum=0.1, affine=True, track_running_stats=True)\n",
      "      )\n",
      "    )\n",
      "    (1): Bottleneck(\n",
      "      (conv1): Conv2d(1024, 256, kernel_size=(1, 1), stride=(1, 1), bias=False)\n",
      "      (bn1): BatchNorm2d(256, eps=1e-05, momentum=0.1, affine=True, track_running_stats=True)\n",
      "      (conv2): Conv2d(256, 256, kernel_size=(3, 3), stride=(1, 1), padding=(1, 1), bias=False)\n",
      "      (bn2): BatchNorm2d(256, eps=1e-05, momentum=0.1, affine=True, track_running_stats=True)\n",
      "      (conv3): Conv2d(256, 1024, kernel_size=(1, 1), stride=(1, 1), bias=False)\n",
      "      (bn3): BatchNorm2d(1024, eps=1e-05, momentum=0.1, affine=True, track_running_stats=True)\n",
      "      (relu): ReLU(inplace=True)\n",
      "    )\n",
      "    (2): Bottleneck(\n",
      "      (conv1): Conv2d(1024, 256, kernel_size=(1, 1), stride=(1, 1), bias=False)\n",
      "      (bn1): BatchNorm2d(256, eps=1e-05, momentum=0.1, affine=True, track_running_stats=True)\n",
      "      (conv2): Conv2d(256, 256, kernel_size=(3, 3), stride=(1, 1), padding=(1, 1), bias=False)\n",
      "      (bn2): BatchNorm2d(256, eps=1e-05, momentum=0.1, affine=True, track_running_stats=True)\n",
      "      (conv3): Conv2d(256, 1024, kernel_size=(1, 1), stride=(1, 1), bias=False)\n",
      "      (bn3): BatchNorm2d(1024, eps=1e-05, momentum=0.1, affine=True, track_running_stats=True)\n",
      "      (relu): ReLU(inplace=True)\n",
      "    )\n",
      "    (3): Bottleneck(\n",
      "      (conv1): Conv2d(1024, 256, kernel_size=(1, 1), stride=(1, 1), bias=False)\n",
      "      (bn1): BatchNorm2d(256, eps=1e-05, momentum=0.1, affine=True, track_running_stats=True)\n",
      "      (conv2): Conv2d(256, 256, kernel_size=(3, 3), stride=(1, 1), padding=(1, 1), bias=False)\n",
      "      (bn2): BatchNorm2d(256, eps=1e-05, momentum=0.1, affine=True, track_running_stats=True)\n",
      "      (conv3): Conv2d(256, 1024, kernel_size=(1, 1), stride=(1, 1), bias=False)\n",
      "      (bn3): BatchNorm2d(1024, eps=1e-05, momentum=0.1, affine=True, track_running_stats=True)\n",
      "      (relu): ReLU(inplace=True)\n",
      "    )\n",
      "    (4): Bottleneck(\n",
      "      (conv1): Conv2d(1024, 256, kernel_size=(1, 1), stride=(1, 1), bias=False)\n",
      "      (bn1): BatchNorm2d(256, eps=1e-05, momentum=0.1, affine=True, track_running_stats=True)\n",
      "      (conv2): Conv2d(256, 256, kernel_size=(3, 3), stride=(1, 1), padding=(1, 1), bias=False)\n",
      "      (bn2): BatchNorm2d(256, eps=1e-05, momentum=0.1, affine=True, track_running_stats=True)\n",
      "      (conv3): Conv2d(256, 1024, kernel_size=(1, 1), stride=(1, 1), bias=False)\n",
      "      (bn3): BatchNorm2d(1024, eps=1e-05, momentum=0.1, affine=True, track_running_stats=True)\n",
      "      (relu): ReLU(inplace=True)\n",
      "    )\n",
      "    (5): Bottleneck(\n",
      "      (conv1): Conv2d(1024, 256, kernel_size=(1, 1), stride=(1, 1), bias=False)\n",
      "      (bn1): BatchNorm2d(256, eps=1e-05, momentum=0.1, affine=True, track_running_stats=True)\n",
      "      (conv2): Conv2d(256, 256, kernel_size=(3, 3), stride=(1, 1), padding=(1, 1), bias=False)\n",
      "      (bn2): BatchNorm2d(256, eps=1e-05, momentum=0.1, affine=True, track_running_stats=True)\n",
      "      (conv3): Conv2d(256, 1024, kernel_size=(1, 1), stride=(1, 1), bias=False)\n",
      "      (bn3): BatchNorm2d(1024, eps=1e-05, momentum=0.1, affine=True, track_running_stats=True)\n",
      "      (relu): ReLU(inplace=True)\n",
      "    )\n",
      "  )\n",
      "  (layer4): Sequential(\n",
      "    (0): Bottleneck(\n",
      "      (conv1): Conv2d(1024, 512, kernel_size=(1, 1), stride=(1, 1), bias=False)\n",
      "      (bn1): BatchNorm2d(512, eps=1e-05, momentum=0.1, affine=True, track_running_stats=True)\n",
      "      (conv2): Conv2d(512, 512, kernel_size=(3, 3), stride=(2, 2), padding=(1, 1), bias=False)\n",
      "      (bn2): BatchNorm2d(512, eps=1e-05, momentum=0.1, affine=True, track_running_stats=True)\n",
      "      (conv3): Conv2d(512, 2048, kernel_size=(1, 1), stride=(1, 1), bias=False)\n",
      "      (bn3): BatchNorm2d(2048, eps=1e-05, momentum=0.1, affine=True, track_running_stats=True)\n",
      "      (relu): ReLU(inplace=True)\n",
      "      (downsample): Sequential(\n",
      "        (0): Conv2d(1024, 2048, kernel_size=(1, 1), stride=(2, 2), bias=False)\n",
      "        (1): BatchNorm2d(2048, eps=1e-05, momentum=0.1, affine=True, track_running_stats=True)\n",
      "      )\n",
      "    )\n",
      "    (1): Bottleneck(\n",
      "      (conv1): Conv2d(2048, 512, kernel_size=(1, 1), stride=(1, 1), bias=False)\n",
      "      (bn1): BatchNorm2d(512, eps=1e-05, momentum=0.1, affine=True, track_running_stats=True)\n",
      "      (conv2): Conv2d(512, 512, kernel_size=(3, 3), stride=(1, 1), padding=(1, 1), bias=False)\n",
      "      (bn2): BatchNorm2d(512, eps=1e-05, momentum=0.1, affine=True, track_running_stats=True)\n",
      "      (conv3): Conv2d(512, 2048, kernel_size=(1, 1), stride=(1, 1), bias=False)\n",
      "      (bn3): BatchNorm2d(2048, eps=1e-05, momentum=0.1, affine=True, track_running_stats=True)\n",
      "      (relu): ReLU(inplace=True)\n",
      "    )\n",
      "    (2): Bottleneck(\n",
      "      (conv1): Conv2d(2048, 512, kernel_size=(1, 1), stride=(1, 1), bias=False)\n",
      "      (bn1): BatchNorm2d(512, eps=1e-05, momentum=0.1, affine=True, track_running_stats=True)\n",
      "      (conv2): Conv2d(512, 512, kernel_size=(3, 3), stride=(1, 1), padding=(1, 1), bias=False)\n",
      "      (bn2): BatchNorm2d(512, eps=1e-05, momentum=0.1, affine=True, track_running_stats=True)\n",
      "      (conv3): Conv2d(512, 2048, kernel_size=(1, 1), stride=(1, 1), bias=False)\n",
      "      (bn3): BatchNorm2d(2048, eps=1e-05, momentum=0.1, affine=True, track_running_stats=True)\n",
      "      (relu): ReLU(inplace=True)\n",
      "    )\n",
      "  )\n",
      "  (avgpool): AdaptiveAvgPool2d(output_size=(1, 1))\n",
      "  (fc): Linear(in_features=2048, out_features=1000, bias=True)\n",
      ")\n"
     ]
    }
   ],
   "source": [
    "#device = torch.device(\"cuda\" if torch.cuda.is_available() else \"cpu\")\n",
    "device=\"cpu\"\n",
    "print(device)\n",
    "model = models.resnet50(pretrained=True)\n",
    "print(model)"
   ]
  },
  {
   "cell_type": "code",
<<<<<<< HEAD:pytorch/test2/train.ipynb
   "execution_count": 12,
=======
<<<<<<< HEAD
   "execution_count": 15,
=======
   "execution_count": 9,
>>>>>>> ee0729ebb33e6df1c1660fa6eae3871c36078a7b
>>>>>>> 26f7ac29863ccfd55105c3401dc2e258cd3e22d4:pytorch/test2/test2.ipynb
   "id": "together-sharp",
   "metadata": {},
   "outputs": [
    {
     "data": {
      "text/plain": [
       "ResNet(\n",
       "  (conv1): Conv2d(3, 64, kernel_size=(7, 7), stride=(2, 2), padding=(3, 3), bias=False)\n",
       "  (bn1): BatchNorm2d(64, eps=1e-05, momentum=0.1, affine=True, track_running_stats=True)\n",
       "  (relu): ReLU(inplace=True)\n",
       "  (maxpool): MaxPool2d(kernel_size=3, stride=2, padding=1, dilation=1, ceil_mode=False)\n",
       "  (layer1): Sequential(\n",
       "    (0): Bottleneck(\n",
       "      (conv1): Conv2d(64, 64, kernel_size=(1, 1), stride=(1, 1), bias=False)\n",
       "      (bn1): BatchNorm2d(64, eps=1e-05, momentum=0.1, affine=True, track_running_stats=True)\n",
       "      (conv2): Conv2d(64, 64, kernel_size=(3, 3), stride=(1, 1), padding=(1, 1), bias=False)\n",
       "      (bn2): BatchNorm2d(64, eps=1e-05, momentum=0.1, affine=True, track_running_stats=True)\n",
       "      (conv3): Conv2d(64, 256, kernel_size=(1, 1), stride=(1, 1), bias=False)\n",
       "      (bn3): BatchNorm2d(256, eps=1e-05, momentum=0.1, affine=True, track_running_stats=True)\n",
       "      (relu): ReLU(inplace=True)\n",
       "      (downsample): Sequential(\n",
       "        (0): Conv2d(64, 256, kernel_size=(1, 1), stride=(1, 1), bias=False)\n",
       "        (1): BatchNorm2d(256, eps=1e-05, momentum=0.1, affine=True, track_running_stats=True)\n",
       "      )\n",
       "    )\n",
       "    (1): Bottleneck(\n",
       "      (conv1): Conv2d(256, 64, kernel_size=(1, 1), stride=(1, 1), bias=False)\n",
       "      (bn1): BatchNorm2d(64, eps=1e-05, momentum=0.1, affine=True, track_running_stats=True)\n",
       "      (conv2): Conv2d(64, 64, kernel_size=(3, 3), stride=(1, 1), padding=(1, 1), bias=False)\n",
       "      (bn2): BatchNorm2d(64, eps=1e-05, momentum=0.1, affine=True, track_running_stats=True)\n",
       "      (conv3): Conv2d(64, 256, kernel_size=(1, 1), stride=(1, 1), bias=False)\n",
       "      (bn3): BatchNorm2d(256, eps=1e-05, momentum=0.1, affine=True, track_running_stats=True)\n",
       "      (relu): ReLU(inplace=True)\n",
       "    )\n",
       "    (2): Bottleneck(\n",
       "      (conv1): Conv2d(256, 64, kernel_size=(1, 1), stride=(1, 1), bias=False)\n",
       "      (bn1): BatchNorm2d(64, eps=1e-05, momentum=0.1, affine=True, track_running_stats=True)\n",
       "      (conv2): Conv2d(64, 64, kernel_size=(3, 3), stride=(1, 1), padding=(1, 1), bias=False)\n",
       "      (bn2): BatchNorm2d(64, eps=1e-05, momentum=0.1, affine=True, track_running_stats=True)\n",
       "      (conv3): Conv2d(64, 256, kernel_size=(1, 1), stride=(1, 1), bias=False)\n",
       "      (bn3): BatchNorm2d(256, eps=1e-05, momentum=0.1, affine=True, track_running_stats=True)\n",
       "      (relu): ReLU(inplace=True)\n",
       "    )\n",
       "  )\n",
       "  (layer2): Sequential(\n",
       "    (0): Bottleneck(\n",
       "      (conv1): Conv2d(256, 128, kernel_size=(1, 1), stride=(1, 1), bias=False)\n",
       "      (bn1): BatchNorm2d(128, eps=1e-05, momentum=0.1, affine=True, track_running_stats=True)\n",
       "      (conv2): Conv2d(128, 128, kernel_size=(3, 3), stride=(2, 2), padding=(1, 1), bias=False)\n",
       "      (bn2): BatchNorm2d(128, eps=1e-05, momentum=0.1, affine=True, track_running_stats=True)\n",
       "      (conv3): Conv2d(128, 512, kernel_size=(1, 1), stride=(1, 1), bias=False)\n",
       "      (bn3): BatchNorm2d(512, eps=1e-05, momentum=0.1, affine=True, track_running_stats=True)\n",
       "      (relu): ReLU(inplace=True)\n",
       "      (downsample): Sequential(\n",
       "        (0): Conv2d(256, 512, kernel_size=(1, 1), stride=(2, 2), bias=False)\n",
       "        (1): BatchNorm2d(512, eps=1e-05, momentum=0.1, affine=True, track_running_stats=True)\n",
       "      )\n",
       "    )\n",
       "    (1): Bottleneck(\n",
       "      (conv1): Conv2d(512, 128, kernel_size=(1, 1), stride=(1, 1), bias=False)\n",
       "      (bn1): BatchNorm2d(128, eps=1e-05, momentum=0.1, affine=True, track_running_stats=True)\n",
       "      (conv2): Conv2d(128, 128, kernel_size=(3, 3), stride=(1, 1), padding=(1, 1), bias=False)\n",
       "      (bn2): BatchNorm2d(128, eps=1e-05, momentum=0.1, affine=True, track_running_stats=True)\n",
       "      (conv3): Conv2d(128, 512, kernel_size=(1, 1), stride=(1, 1), bias=False)\n",
       "      (bn3): BatchNorm2d(512, eps=1e-05, momentum=0.1, affine=True, track_running_stats=True)\n",
       "      (relu): ReLU(inplace=True)\n",
       "    )\n",
       "    (2): Bottleneck(\n",
       "      (conv1): Conv2d(512, 128, kernel_size=(1, 1), stride=(1, 1), bias=False)\n",
       "      (bn1): BatchNorm2d(128, eps=1e-05, momentum=0.1, affine=True, track_running_stats=True)\n",
       "      (conv2): Conv2d(128, 128, kernel_size=(3, 3), stride=(1, 1), padding=(1, 1), bias=False)\n",
       "      (bn2): BatchNorm2d(128, eps=1e-05, momentum=0.1, affine=True, track_running_stats=True)\n",
       "      (conv3): Conv2d(128, 512, kernel_size=(1, 1), stride=(1, 1), bias=False)\n",
       "      (bn3): BatchNorm2d(512, eps=1e-05, momentum=0.1, affine=True, track_running_stats=True)\n",
       "      (relu): ReLU(inplace=True)\n",
       "    )\n",
       "    (3): Bottleneck(\n",
       "      (conv1): Conv2d(512, 128, kernel_size=(1, 1), stride=(1, 1), bias=False)\n",
       "      (bn1): BatchNorm2d(128, eps=1e-05, momentum=0.1, affine=True, track_running_stats=True)\n",
       "      (conv2): Conv2d(128, 128, kernel_size=(3, 3), stride=(1, 1), padding=(1, 1), bias=False)\n",
       "      (bn2): BatchNorm2d(128, eps=1e-05, momentum=0.1, affine=True, track_running_stats=True)\n",
       "      (conv3): Conv2d(128, 512, kernel_size=(1, 1), stride=(1, 1), bias=False)\n",
       "      (bn3): BatchNorm2d(512, eps=1e-05, momentum=0.1, affine=True, track_running_stats=True)\n",
       "      (relu): ReLU(inplace=True)\n",
       "    )\n",
       "  )\n",
       "  (layer3): Sequential(\n",
       "    (0): Bottleneck(\n",
       "      (conv1): Conv2d(512, 256, kernel_size=(1, 1), stride=(1, 1), bias=False)\n",
       "      (bn1): BatchNorm2d(256, eps=1e-05, momentum=0.1, affine=True, track_running_stats=True)\n",
       "      (conv2): Conv2d(256, 256, kernel_size=(3, 3), stride=(2, 2), padding=(1, 1), bias=False)\n",
       "      (bn2): BatchNorm2d(256, eps=1e-05, momentum=0.1, affine=True, track_running_stats=True)\n",
       "      (conv3): Conv2d(256, 1024, kernel_size=(1, 1), stride=(1, 1), bias=False)\n",
       "      (bn3): BatchNorm2d(1024, eps=1e-05, momentum=0.1, affine=True, track_running_stats=True)\n",
       "      (relu): ReLU(inplace=True)\n",
       "      (downsample): Sequential(\n",
       "        (0): Conv2d(512, 1024, kernel_size=(1, 1), stride=(2, 2), bias=False)\n",
       "        (1): BatchNorm2d(1024, eps=1e-05, momentum=0.1, affine=True, track_running_stats=True)\n",
       "      )\n",
       "    )\n",
       "    (1): Bottleneck(\n",
       "      (conv1): Conv2d(1024, 256, kernel_size=(1, 1), stride=(1, 1), bias=False)\n",
       "      (bn1): BatchNorm2d(256, eps=1e-05, momentum=0.1, affine=True, track_running_stats=True)\n",
       "      (conv2): Conv2d(256, 256, kernel_size=(3, 3), stride=(1, 1), padding=(1, 1), bias=False)\n",
       "      (bn2): BatchNorm2d(256, eps=1e-05, momentum=0.1, affine=True, track_running_stats=True)\n",
       "      (conv3): Conv2d(256, 1024, kernel_size=(1, 1), stride=(1, 1), bias=False)\n",
       "      (bn3): BatchNorm2d(1024, eps=1e-05, momentum=0.1, affine=True, track_running_stats=True)\n",
       "      (relu): ReLU(inplace=True)\n",
       "    )\n",
       "    (2): Bottleneck(\n",
       "      (conv1): Conv2d(1024, 256, kernel_size=(1, 1), stride=(1, 1), bias=False)\n",
       "      (bn1): BatchNorm2d(256, eps=1e-05, momentum=0.1, affine=True, track_running_stats=True)\n",
       "      (conv2): Conv2d(256, 256, kernel_size=(3, 3), stride=(1, 1), padding=(1, 1), bias=False)\n",
       "      (bn2): BatchNorm2d(256, eps=1e-05, momentum=0.1, affine=True, track_running_stats=True)\n",
       "      (conv3): Conv2d(256, 1024, kernel_size=(1, 1), stride=(1, 1), bias=False)\n",
       "      (bn3): BatchNorm2d(1024, eps=1e-05, momentum=0.1, affine=True, track_running_stats=True)\n",
       "      (relu): ReLU(inplace=True)\n",
       "    )\n",
       "    (3): Bottleneck(\n",
       "      (conv1): Conv2d(1024, 256, kernel_size=(1, 1), stride=(1, 1), bias=False)\n",
       "      (bn1): BatchNorm2d(256, eps=1e-05, momentum=0.1, affine=True, track_running_stats=True)\n",
       "      (conv2): Conv2d(256, 256, kernel_size=(3, 3), stride=(1, 1), padding=(1, 1), bias=False)\n",
       "      (bn2): BatchNorm2d(256, eps=1e-05, momentum=0.1, affine=True, track_running_stats=True)\n",
       "      (conv3): Conv2d(256, 1024, kernel_size=(1, 1), stride=(1, 1), bias=False)\n",
       "      (bn3): BatchNorm2d(1024, eps=1e-05, momentum=0.1, affine=True, track_running_stats=True)\n",
       "      (relu): ReLU(inplace=True)\n",
       "    )\n",
       "    (4): Bottleneck(\n",
       "      (conv1): Conv2d(1024, 256, kernel_size=(1, 1), stride=(1, 1), bias=False)\n",
       "      (bn1): BatchNorm2d(256, eps=1e-05, momentum=0.1, affine=True, track_running_stats=True)\n",
       "      (conv2): Conv2d(256, 256, kernel_size=(3, 3), stride=(1, 1), padding=(1, 1), bias=False)\n",
       "      (bn2): BatchNorm2d(256, eps=1e-05, momentum=0.1, affine=True, track_running_stats=True)\n",
       "      (conv3): Conv2d(256, 1024, kernel_size=(1, 1), stride=(1, 1), bias=False)\n",
       "      (bn3): BatchNorm2d(1024, eps=1e-05, momentum=0.1, affine=True, track_running_stats=True)\n",
       "      (relu): ReLU(inplace=True)\n",
       "    )\n",
       "    (5): Bottleneck(\n",
       "      (conv1): Conv2d(1024, 256, kernel_size=(1, 1), stride=(1, 1), bias=False)\n",
       "      (bn1): BatchNorm2d(256, eps=1e-05, momentum=0.1, affine=True, track_running_stats=True)\n",
       "      (conv2): Conv2d(256, 256, kernel_size=(3, 3), stride=(1, 1), padding=(1, 1), bias=False)\n",
       "      (bn2): BatchNorm2d(256, eps=1e-05, momentum=0.1, affine=True, track_running_stats=True)\n",
       "      (conv3): Conv2d(256, 1024, kernel_size=(1, 1), stride=(1, 1), bias=False)\n",
       "      (bn3): BatchNorm2d(1024, eps=1e-05, momentum=0.1, affine=True, track_running_stats=True)\n",
       "      (relu): ReLU(inplace=True)\n",
       "    )\n",
       "  )\n",
       "  (layer4): Sequential(\n",
       "    (0): Bottleneck(\n",
       "      (conv1): Conv2d(1024, 512, kernel_size=(1, 1), stride=(1, 1), bias=False)\n",
       "      (bn1): BatchNorm2d(512, eps=1e-05, momentum=0.1, affine=True, track_running_stats=True)\n",
       "      (conv2): Conv2d(512, 512, kernel_size=(3, 3), stride=(2, 2), padding=(1, 1), bias=False)\n",
       "      (bn2): BatchNorm2d(512, eps=1e-05, momentum=0.1, affine=True, track_running_stats=True)\n",
       "      (conv3): Conv2d(512, 2048, kernel_size=(1, 1), stride=(1, 1), bias=False)\n",
       "      (bn3): BatchNorm2d(2048, eps=1e-05, momentum=0.1, affine=True, track_running_stats=True)\n",
       "      (relu): ReLU(inplace=True)\n",
       "      (downsample): Sequential(\n",
       "        (0): Conv2d(1024, 2048, kernel_size=(1, 1), stride=(2, 2), bias=False)\n",
       "        (1): BatchNorm2d(2048, eps=1e-05, momentum=0.1, affine=True, track_running_stats=True)\n",
       "      )\n",
       "    )\n",
       "    (1): Bottleneck(\n",
       "      (conv1): Conv2d(2048, 512, kernel_size=(1, 1), stride=(1, 1), bias=False)\n",
       "      (bn1): BatchNorm2d(512, eps=1e-05, momentum=0.1, affine=True, track_running_stats=True)\n",
       "      (conv2): Conv2d(512, 512, kernel_size=(3, 3), stride=(1, 1), padding=(1, 1), bias=False)\n",
       "      (bn2): BatchNorm2d(512, eps=1e-05, momentum=0.1, affine=True, track_running_stats=True)\n",
       "      (conv3): Conv2d(512, 2048, kernel_size=(1, 1), stride=(1, 1), bias=False)\n",
       "      (bn3): BatchNorm2d(2048, eps=1e-05, momentum=0.1, affine=True, track_running_stats=True)\n",
       "      (relu): ReLU(inplace=True)\n",
       "    )\n",
       "    (2): Bottleneck(\n",
       "      (conv1): Conv2d(2048, 512, kernel_size=(1, 1), stride=(1, 1), bias=False)\n",
       "      (bn1): BatchNorm2d(512, eps=1e-05, momentum=0.1, affine=True, track_running_stats=True)\n",
       "      (conv2): Conv2d(512, 512, kernel_size=(3, 3), stride=(1, 1), padding=(1, 1), bias=False)\n",
       "      (bn2): BatchNorm2d(512, eps=1e-05, momentum=0.1, affine=True, track_running_stats=True)\n",
       "      (conv3): Conv2d(512, 2048, kernel_size=(1, 1), stride=(1, 1), bias=False)\n",
       "      (bn3): BatchNorm2d(2048, eps=1e-05, momentum=0.1, affine=True, track_running_stats=True)\n",
       "      (relu): ReLU(inplace=True)\n",
       "    )\n",
       "  )\n",
       "  (avgpool): AdaptiveAvgPool2d(output_size=(1, 1))\n",
       "  (fc): Sequential(\n",
       "    (0): Linear(in_features=2048, out_features=512, bias=True)\n",
       "    (1): ReLU()\n",
       "    (2): Dropout(p=0.2, inplace=False)\n",
       "    (3): Linear(in_features=512, out_features=11, bias=True)\n",
       "    (4): LogSoftmax(dim=1)\n",
       "  )\n",
       ")"
      ]
     },
<<<<<<< HEAD:pytorch/test2/train.ipynb
     "execution_count": 12,
=======
<<<<<<< HEAD
     "execution_count": 15,
=======
     "execution_count": 9,
>>>>>>> ee0729ebb33e6df1c1660fa6eae3871c36078a7b
>>>>>>> 26f7ac29863ccfd55105c3401dc2e258cd3e22d4:pytorch/test2/test2.ipynb
     "metadata": {},
     "output_type": "execute_result"
    }
   ],
   "source": [
    "for param in model.parameters():\n",
    "    param.requires_grad = False\n",
    "    \n",
    "model.fc = nn.Sequential(nn.Linear(2048, 512),\n",
    "                                 nn.ReLU(),\n",
    "                                 nn.Dropout(0.2),\n",
    "                                 nn.Linear(512, 11),\n",
    "                                 nn.LogSoftmax(dim=1))\n",
    "criterion = nn.NLLLoss()\n",
    "optimizer = optim.Adam(model.fc.parameters(), lr=0.003)\n",
    "model.to(device)"
   ]
  },
  {
   "cell_type": "code",
<<<<<<< HEAD:pytorch/test2/train.ipynb
   "execution_count": 13,
   "id": "compound-richards",
   "metadata": {},
   "outputs": [
    {
     "name": "stdout",
     "output_type": "stream",
     "text": [
      "Epoch 1/1.. Train loss: 3.309.. Test loss: 0.273.. Test accuracy: 0.076\n",
      "Epoch 1/1.. Train loss: 3.309.. Test loss: 0.587.. Test accuracy: 0.143\n",
      "Epoch 1/1.. Train loss: 3.309.. Test loss: 0.861.. Test accuracy: 0.221\n",
      "Epoch 1/1.. Train loss: 3.309.. Test loss: 1.141.. Test accuracy: 0.299\n",
      "Epoch 1/1.. Train loss: 3.309.. Test loss: 1.448.. Test accuracy: 0.365\n",
      "Epoch 1/1.. Train loss: 3.309.. Test loss: 1.702.. Test accuracy: 0.427\n",
      "Epoch 1/1.. Train loss: 1.365.. Test loss: 0.239.. Test accuracy: 0.083\n",
      "Epoch 1/1.. Train loss: 1.365.. Test loss: 0.482.. Test accuracy: 0.172\n",
      "Epoch 1/1.. Train loss: 1.365.. Test loss: 0.704.. Test accuracy: 0.273\n",
      "Epoch 1/1.. Train loss: 1.365.. Test loss: 0.947.. Test accuracy: 0.352\n",
      "Epoch 1/1.. Train loss: 1.365.. Test loss: 1.152.. Test accuracy: 0.469\n",
      "Epoch 1/1.. Train loss: 1.365.. Test loss: 1.368.. Test accuracy: 0.552\n"
     ]
    }
   ],
=======
<<<<<<< HEAD
   "execution_count": 17,
   "id": "compound-richards",
   "metadata": {},
   "outputs": [
    {
     "ename": "IndexError",
     "evalue": "Target 10 is out of bounds.",
     "output_type": "error",
     "traceback": [
      "\u001b[1;31m---------------------------------------------------------------------------\u001b[0m",
      "\u001b[1;31mIndexError\u001b[0m                                Traceback (most recent call last)",
      "\u001b[1;32m<ipython-input-17-3ab7f69b75aa>\u001b[0m in \u001b[0;36m<module>\u001b[1;34m\u001b[0m\n\u001b[0;32m     10\u001b[0m         \u001b[0moptimizer\u001b[0m\u001b[1;33m.\u001b[0m\u001b[0mzero_grad\u001b[0m\u001b[1;33m(\u001b[0m\u001b[1;33m)\u001b[0m\u001b[1;33m\u001b[0m\u001b[1;33m\u001b[0m\u001b[0m\n\u001b[0;32m     11\u001b[0m         \u001b[0mlogps\u001b[0m \u001b[1;33m=\u001b[0m \u001b[0mmodel\u001b[0m\u001b[1;33m.\u001b[0m\u001b[0mforward\u001b[0m\u001b[1;33m(\u001b[0m\u001b[0minputs\u001b[0m\u001b[1;33m)\u001b[0m\u001b[1;33m\u001b[0m\u001b[1;33m\u001b[0m\u001b[0m\n\u001b[1;32m---> 12\u001b[1;33m         \u001b[0mloss\u001b[0m \u001b[1;33m=\u001b[0m \u001b[0mcriterion\u001b[0m\u001b[1;33m(\u001b[0m\u001b[0mlogps\u001b[0m\u001b[1;33m,\u001b[0m \u001b[0mlabels\u001b[0m\u001b[1;33m)\u001b[0m\u001b[1;33m\u001b[0m\u001b[1;33m\u001b[0m\u001b[0m\n\u001b[0m\u001b[0;32m     13\u001b[0m         \u001b[0mloss\u001b[0m\u001b[1;33m.\u001b[0m\u001b[0mbackward\u001b[0m\u001b[1;33m(\u001b[0m\u001b[1;33m)\u001b[0m\u001b[1;33m\u001b[0m\u001b[1;33m\u001b[0m\u001b[0m\n\u001b[0;32m     14\u001b[0m         \u001b[0moptimizer\u001b[0m\u001b[1;33m.\u001b[0m\u001b[0mstep\u001b[0m\u001b[1;33m(\u001b[0m\u001b[1;33m)\u001b[0m\u001b[1;33m\u001b[0m\u001b[1;33m\u001b[0m\u001b[0m\n",
      "\u001b[1;32mC:\\anaconda3\\lib\\site-packages\\torch\\nn\\modules\\module.py\u001b[0m in \u001b[0;36m_call_impl\u001b[1;34m(self, *input, **kwargs)\u001b[0m\n\u001b[0;32m    887\u001b[0m             \u001b[0mresult\u001b[0m \u001b[1;33m=\u001b[0m \u001b[0mself\u001b[0m\u001b[1;33m.\u001b[0m\u001b[0m_slow_forward\u001b[0m\u001b[1;33m(\u001b[0m\u001b[1;33m*\u001b[0m\u001b[0minput\u001b[0m\u001b[1;33m,\u001b[0m \u001b[1;33m**\u001b[0m\u001b[0mkwargs\u001b[0m\u001b[1;33m)\u001b[0m\u001b[1;33m\u001b[0m\u001b[1;33m\u001b[0m\u001b[0m\n\u001b[0;32m    888\u001b[0m         \u001b[1;32melse\u001b[0m\u001b[1;33m:\u001b[0m\u001b[1;33m\u001b[0m\u001b[1;33m\u001b[0m\u001b[0m\n\u001b[1;32m--> 889\u001b[1;33m             \u001b[0mresult\u001b[0m \u001b[1;33m=\u001b[0m \u001b[0mself\u001b[0m\u001b[1;33m.\u001b[0m\u001b[0mforward\u001b[0m\u001b[1;33m(\u001b[0m\u001b[1;33m*\u001b[0m\u001b[0minput\u001b[0m\u001b[1;33m,\u001b[0m \u001b[1;33m**\u001b[0m\u001b[0mkwargs\u001b[0m\u001b[1;33m)\u001b[0m\u001b[1;33m\u001b[0m\u001b[1;33m\u001b[0m\u001b[0m\n\u001b[0m\u001b[0;32m    890\u001b[0m         for hook in itertools.chain(\n\u001b[0;32m    891\u001b[0m                 \u001b[0m_global_forward_hooks\u001b[0m\u001b[1;33m.\u001b[0m\u001b[0mvalues\u001b[0m\u001b[1;33m(\u001b[0m\u001b[1;33m)\u001b[0m\u001b[1;33m,\u001b[0m\u001b[1;33m\u001b[0m\u001b[1;33m\u001b[0m\u001b[0m\n",
      "\u001b[1;32mC:\\anaconda3\\lib\\site-packages\\torch\\nn\\modules\\loss.py\u001b[0m in \u001b[0;36mforward\u001b[1;34m(self, input, target)\u001b[0m\n\u001b[0;32m    214\u001b[0m     \u001b[1;32mdef\u001b[0m \u001b[0mforward\u001b[0m\u001b[1;33m(\u001b[0m\u001b[0mself\u001b[0m\u001b[1;33m,\u001b[0m \u001b[0minput\u001b[0m\u001b[1;33m:\u001b[0m \u001b[0mTensor\u001b[0m\u001b[1;33m,\u001b[0m \u001b[0mtarget\u001b[0m\u001b[1;33m:\u001b[0m \u001b[0mTensor\u001b[0m\u001b[1;33m)\u001b[0m \u001b[1;33m->\u001b[0m \u001b[0mTensor\u001b[0m\u001b[1;33m:\u001b[0m\u001b[1;33m\u001b[0m\u001b[1;33m\u001b[0m\u001b[0m\n\u001b[0;32m    215\u001b[0m         \u001b[1;32massert\u001b[0m \u001b[0mself\u001b[0m\u001b[1;33m.\u001b[0m\u001b[0mweight\u001b[0m \u001b[1;32mis\u001b[0m \u001b[1;32mNone\u001b[0m \u001b[1;32mor\u001b[0m \u001b[0misinstance\u001b[0m\u001b[1;33m(\u001b[0m\u001b[0mself\u001b[0m\u001b[1;33m.\u001b[0m\u001b[0mweight\u001b[0m\u001b[1;33m,\u001b[0m \u001b[0mTensor\u001b[0m\u001b[1;33m)\u001b[0m\u001b[1;33m\u001b[0m\u001b[1;33m\u001b[0m\u001b[0m\n\u001b[1;32m--> 216\u001b[1;33m         \u001b[1;32mreturn\u001b[0m \u001b[0mF\u001b[0m\u001b[1;33m.\u001b[0m\u001b[0mnll_loss\u001b[0m\u001b[1;33m(\u001b[0m\u001b[0minput\u001b[0m\u001b[1;33m,\u001b[0m \u001b[0mtarget\u001b[0m\u001b[1;33m,\u001b[0m \u001b[0mweight\u001b[0m\u001b[1;33m=\u001b[0m\u001b[0mself\u001b[0m\u001b[1;33m.\u001b[0m\u001b[0mweight\u001b[0m\u001b[1;33m,\u001b[0m \u001b[0mignore_index\u001b[0m\u001b[1;33m=\u001b[0m\u001b[0mself\u001b[0m\u001b[1;33m.\u001b[0m\u001b[0mignore_index\u001b[0m\u001b[1;33m,\u001b[0m \u001b[0mreduction\u001b[0m\u001b[1;33m=\u001b[0m\u001b[0mself\u001b[0m\u001b[1;33m.\u001b[0m\u001b[0mreduction\u001b[0m\u001b[1;33m)\u001b[0m\u001b[1;33m\u001b[0m\u001b[1;33m\u001b[0m\u001b[0m\n\u001b[0m\u001b[0;32m    217\u001b[0m \u001b[1;33m\u001b[0m\u001b[0m\n\u001b[0;32m    218\u001b[0m \u001b[1;33m\u001b[0m\u001b[0m\n",
      "\u001b[1;32mC:\\anaconda3\\lib\\site-packages\\torch\\nn\\functional.py\u001b[0m in \u001b[0;36mnll_loss\u001b[1;34m(input, target, weight, size_average, ignore_index, reduce, reduction)\u001b[0m\n\u001b[0;32m   2383\u001b[0m         )\n\u001b[0;32m   2384\u001b[0m     \u001b[1;32mif\u001b[0m \u001b[0mdim\u001b[0m \u001b[1;33m==\u001b[0m \u001b[1;36m2\u001b[0m\u001b[1;33m:\u001b[0m\u001b[1;33m\u001b[0m\u001b[1;33m\u001b[0m\u001b[0m\n\u001b[1;32m-> 2385\u001b[1;33m         \u001b[0mret\u001b[0m \u001b[1;33m=\u001b[0m \u001b[0mtorch\u001b[0m\u001b[1;33m.\u001b[0m\u001b[0m_C\u001b[0m\u001b[1;33m.\u001b[0m\u001b[0m_nn\u001b[0m\u001b[1;33m.\u001b[0m\u001b[0mnll_loss\u001b[0m\u001b[1;33m(\u001b[0m\u001b[0minput\u001b[0m\u001b[1;33m,\u001b[0m \u001b[0mtarget\u001b[0m\u001b[1;33m,\u001b[0m \u001b[0mweight\u001b[0m\u001b[1;33m,\u001b[0m \u001b[0m_Reduction\u001b[0m\u001b[1;33m.\u001b[0m\u001b[0mget_enum\u001b[0m\u001b[1;33m(\u001b[0m\u001b[0mreduction\u001b[0m\u001b[1;33m)\u001b[0m\u001b[1;33m,\u001b[0m \u001b[0mignore_index\u001b[0m\u001b[1;33m)\u001b[0m\u001b[1;33m\u001b[0m\u001b[1;33m\u001b[0m\u001b[0m\n\u001b[0m\u001b[0;32m   2386\u001b[0m     \u001b[1;32melif\u001b[0m \u001b[0mdim\u001b[0m \u001b[1;33m==\u001b[0m \u001b[1;36m4\u001b[0m\u001b[1;33m:\u001b[0m\u001b[1;33m\u001b[0m\u001b[1;33m\u001b[0m\u001b[0m\n\u001b[0;32m   2387\u001b[0m         \u001b[0mret\u001b[0m \u001b[1;33m=\u001b[0m \u001b[0mtorch\u001b[0m\u001b[1;33m.\u001b[0m\u001b[0m_C\u001b[0m\u001b[1;33m.\u001b[0m\u001b[0m_nn\u001b[0m\u001b[1;33m.\u001b[0m\u001b[0mnll_loss2d\u001b[0m\u001b[1;33m(\u001b[0m\u001b[0minput\u001b[0m\u001b[1;33m,\u001b[0m \u001b[0mtarget\u001b[0m\u001b[1;33m,\u001b[0m \u001b[0mweight\u001b[0m\u001b[1;33m,\u001b[0m \u001b[0m_Reduction\u001b[0m\u001b[1;33m.\u001b[0m\u001b[0mget_enum\u001b[0m\u001b[1;33m(\u001b[0m\u001b[0mreduction\u001b[0m\u001b[1;33m)\u001b[0m\u001b[1;33m,\u001b[0m \u001b[0mignore_index\u001b[0m\u001b[1;33m)\u001b[0m\u001b[1;33m\u001b[0m\u001b[1;33m\u001b[0m\u001b[0m\n",
      "\u001b[1;31mIndexError\u001b[0m: Target 10 is out of bounds."
     ]
    }
   ],
=======
   "execution_count": null,
   "id": "compound-richards",
   "metadata": {},
   "outputs": [],
>>>>>>> ee0729ebb33e6df1c1660fa6eae3871c36078a7b
>>>>>>> 26f7ac29863ccfd55105c3401dc2e258cd3e22d4:pytorch/test2/test2.ipynb
   "source": [
    "epochs = 1\n",
    "steps = 0\n",
    "running_loss = 0\n",
    "print_every = 10\n",
    "train_losses, test_losses = [], []\n",
    "for epoch in range(epochs):\n",
    "    for inputs, labels in trainloader:\n",
    "        steps += 1\n",
    "        inputs, labels = inputs.to(device), labels.to(device)\n",
    "        optimizer.zero_grad()\n",
    "        logps = model.forward(inputs)\n",
    "        loss = criterion(logps, labels)\n",
    "        loss.backward()\n",
    "        optimizer.step()\n",
    "        running_loss += loss.item()\n",
    "        \n",
    "        if steps % print_every == 0:\n",
    "            test_loss = 0\n",
    "            accuracy = 0\n",
    "            model.eval()\n",
    "            with torch.no_grad():\n",
    "                for inputs, labels in testloader:\n",
<<<<<<< HEAD
    "                    inputs, labels = inputs.to(device),\n",
    "                    labels.to(device)\n",
    "                    logps = model.forward(inputs)\n",
    "                    batch_loss = criterion(logps, labels)\n",
    "                    test_loss += batch_loss.item()\n",
=======
    "                    if inputs.size() == 0 or labels.size() == 0:\n",
    "                        continue\n",
    "                    else:\n",
    "                        inputs, labels = inputs.to(device),labels.to(device)\n",
    "                        logps = model.forward(inputs)\n",
    "                        batch_loss = criterion(logps, labels)\n",
    "                        test_loss += batch_loss.item()\n",
>>>>>>> ee0729ebb33e6df1c1660fa6eae3871c36078a7b
    "                    \n",
    "                    ps = torch.exp(logps)\n",
    "                    top_p, top_class = ps.topk(1, dim=1)\n",
    "                    equals = top_class == labels.view(*top_class.shape)\n",
    "                    accuracy += torch.mean(equals.type(torch.FloatTensor)).item()\n",
    "                    train_losses.append(running_loss/len(trainloader))\n",
    "                    test_losses.append(test_loss/len(testloader))                    \n",
    "                    print(f\"Epoch {epoch+1}/{epochs}.. \"\n",
    "                          f\"Train loss: {running_loss/print_every:.3f}.. \"\n",
    "                          f\"Test loss: {test_loss/len(testloader):.3f}.. \"\n",
    "                          f\"Test accuracy: {accuracy/len(testloader):.3f}\")\n",
    "            running_loss = 0\n",
    "            model.train()\n",
    "torch.save(model, 'test-model.pth')"
   ]
  },
  {
   "cell_type": "code",
   "execution_count": 7,
   "id": "parallel-solid",
   "metadata": {},
<<<<<<< HEAD:pytorch/test2/train.ipynb
   "outputs": [
    {
     "data": {
      "image/png": "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\n",
      "text/plain": [
       "<Figure size 432x288 with 1 Axes>"
      ]
     },
     "metadata": {
      "image/png": {
       "height": 248,
       "width": 378
      },
      "needs_background": "light"
     },
     "output_type": "display_data"
    }
   ],
=======
   "outputs": [],
<<<<<<< HEAD
=======
>>>>>>> 26f7ac29863ccfd55105c3401dc2e258cd3e22d4:pytorch/test2/test2.ipynb
   "source": [
    "plt.plot(train_losses, label='Training loss')\n",
    "plt.plot(test_losses, label='Validation loss')\n",
    "plt.legend(frameon=False)\n",
    "plt.show()"
   ]
  },
  {
   "cell_type": "code",
   "execution_count": null,
   "id": "purple-exercise",
   "metadata": {},
   "outputs": [],
>>>>>>> ee0729ebb33e6df1c1660fa6eae3871c36078a7b
   "source": []
  }
 ],
 "metadata": {
  "kernelspec": {
   "display_name": "Python 3",
   "language": "python",
   "name": "python3"
  },
  "language_info": {
   "codemirror_mode": {
    "name": "ipython",
    "version": 3
   },
   "file_extension": ".py",
   "mimetype": "text/x-python",
   "name": "python",
   "nbconvert_exporter": "python",
   "pygments_lexer": "ipython3",
   "version": "3.7.9"
  }
 },
 "nbformat": 4,
 "nbformat_minor": 5
}
